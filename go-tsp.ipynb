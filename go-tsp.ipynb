{
 "cells": [
  {
   "cell_type": "code",
   "execution_count": 54,
   "metadata": {
    "collapsed": true
   },
   "outputs": [],
   "source": [
    "import math\n",
    "import random\n",
    "\n",
    "class City:\n",
    "    def __init__(self, x=None , y=None):\n",
    "        self.x = x\n",
    "        self.y = y\n",
    "        if x is None or y is None:\n",
    "            self.x = int(random.random() * 1000)\n",
    "            self.y = int(random.random() * 1000)\n",
    "                \n",
    "    def distanceTo(self, other) -> float:\n",
    "      xDistance = abs(self.getX() - other.getX())\n",
    "      yDistance = abs(self.getY() - other.getY())\n",
    "      distance = math.sqrt( (xDistance*xDistance) + (yDistance*yDistance) )\n",
    "      return distance\n",
    "        "
   ]
  },
  {
   "cell_type": "code",
   "execution_count": 55,
   "metadata": {},
   "outputs": [],
   "source": [
    "class Individual:\n",
    "    def __init__(self, chromosome= []):\n",
    "        self.chromosome = chromosome\n",
    "        self.fitness = None\n",
    "    \n",
    "    def add (self, city: City):\n",
    "        self.chromosome.append (city)\n",
    "        \n",
    "    def clone (self)->Individual:\n",
    "        mutant = Indiviual (self.chromosome)\n",
    "        return mutant\n",
    "        \n",
    "    def mutate (self, mutant, times=1):\n",
    "        size = len (self.chromosome)\n",
    "        for i in range (times):       \n",
    "            ith = int (random.random () * size)\n",
    "            jth = int (random.random () * size)\n",
    "            print (ith, \" \", jth)\n",
    "            tmp = mutant.chromosome[ith]\n",
    "            mutant.chromosome[ith] = mutant.chromosome[jth]\n",
    "            mutant.chromosome[jth] = tmp\n",
    "            print (\"m\", mutant)\n",
    "        \n",
    "    #def crossover (self, other : Individual)->Individual:\n",
    "        \n",
    "    def calcFitness (self)->float:\n",
    "        length = ((lambda i1, i2: i1.distanceTo(i2)), [1, 2, 3, 4])\n",
    "        return length\n",
    "        \n",
    "    \n",
    "    def __repr__(self):\n",
    "        braket = \"<\"\n",
    "        for i in range(0, len (self.chromosome)):\n",
    "            braket += \"(\" + str(self.chromosome[i].x) + \",\" + str(self.chromosome[i].y)+ \")\"+ \"|\"\n",
    "        braket += \">\" \n",
    "        return braket\n",
    "        \n",
    "        "
   ]
  },
  {
   "cell_type": "code",
   "execution_count": 56,
   "metadata": {},
   "outputs": [
    {
     "name": "stdout",
     "output_type": "stream",
     "text": [
      "0   1\n",
      "m <(100,200)|(10,20)|>\n",
      "<(100,200)|(10,20)|>\n",
      "<(100,200)|(10,20)|>\n"
     ]
    }
   ],
   "source": [
    "c1 = City(10,20)\n",
    "c2 = City(100, 200)\n",
    "i1 = Individual ()\n",
    "i1.add(c1)\n",
    "i1.add(c2)\n",
    "mutant = Individual ()\n",
    "i1.mutate (mutant)\n",
    "print (i1)\n",
    "\n",
    "print (mutant)\n",
    "\n",
    "\n"
   ]
  },
  {
   "cell_type": "code",
   "execution_count": null,
   "metadata": {
    "collapsed": true
   },
   "outputs": [],
   "source": []
  },
  {
   "cell_type": "code",
   "execution_count": null,
   "metadata": {
    "collapsed": true
   },
   "outputs": [],
   "source": []
  },
  {
   "cell_type": "code",
   "execution_count": null,
   "metadata": {
    "collapsed": true
   },
   "outputs": [],
   "source": []
  }
 ],
 "metadata": {
  "kernelspec": {
   "display_name": "Python 3",
   "language": "python",
   "name": "python3"
  },
  "language_info": {
   "codemirror_mode": {
    "name": "ipython",
    "version": 3
   },
   "file_extension": ".py",
   "mimetype": "text/x-python",
   "name": "python",
   "nbconvert_exporter": "python",
   "pygments_lexer": "ipython3",
   "version": "3.6.3"
  }
 },
 "nbformat": 4,
 "nbformat_minor": 2
}
