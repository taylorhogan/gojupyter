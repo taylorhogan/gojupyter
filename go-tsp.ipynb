{
 "cells": [
  {
   "cell_type": "code",
   "execution_count": 187,
   "metadata": {
    "collapsed": true
   },
   "outputs": [],
   "source": [
    "import math\n",
    "import random\n",
    "\n",
    "class City:\n",
    "    def __init__(self, x=None , y=None):\n",
    "        self.x = x\n",
    "        self.y = y\n",
    "        if x is None or y is None:\n",
    "            self.x = int(random.random() * 1000)\n",
    "            self.y = int(random.random() * 1000)\n",
    "                \n",
    "    def distanceTo(self, other) -> float:\n",
    "      xDistance = abs(self.x - other.x)\n",
    "      yDistance = abs(self.y - other.y)\n",
    "      distance = math.sqrt( (xDistance*xDistance) + (yDistance*yDistance))\n",
    "      return distance\n",
    "    \n",
    "    def __repr__(self):        \n",
    "        string = \"(\" + str(self.x) + \",\" + str(self.y)+ \")\"       \n",
    "        return string\n",
    "        \n",
    "        "
   ]
  },
  {
   "cell_type": "code",
   "execution_count": 188,
   "metadata": {
    "collapsed": true
   },
   "outputs": [],
   "source": [
    "class Individual:\n",
    "    def __init__(self):\n",
    "        self.chromosome = []\n",
    "        self.fitness = None\n",
    "    \n",
    "    def add (self, city: City):\n",
    "        self.chromosome.append (city)\n",
    "        \n",
    "    def cloneInto (self, mutant):\n",
    "        for i in range(0, len (self.chromosome)):\n",
    "            mutant.add (self.chromosome[i])\n",
    "        \n",
    "    def mutate (self, mutant, times=1):\n",
    "        size = len (self.chromosome)\n",
    "        for i in range (times):       \n",
    "            ith = int (random.random () * size)\n",
    "            jth = int (random.random () * size)\n",
    "            a = mutant.chromosome[ith]\n",
    "            b = mutant.chromosome[jth]\n",
    "            mutant.chromosome[ith] = b\n",
    "            mutant.chromosome[jth] = a\n",
    "        \n",
    "    #def crossover (self, other : Individual)->Individual:\n",
    "        \n",
    "    def calcFitness (self)->float:\n",
    "        length = 0\n",
    "        for i in range (len (self.chromosome) -1):\n",
    "            length += self.chromosome[i].distanceTo (self.chromosome[i+1])\n",
    "        return length\n",
    "     \n",
    "    def getFitness (self):\n",
    "        return self.fitness\n",
    "    \n",
    "    def __repr__(self):\n",
    "        braket = \"<\"\n",
    "        for i in range(0, len (self.chromosome)):\n",
    "            braket += \"(\" + str(self.chromosome[i].x) + \",\" + str(self.chromosome[i].y)+ \")\"+ \"|\"\n",
    "        braket += \">\" \n",
    "        return braket\n",
    "        \n",
    "        "
   ]
  },
  {
   "cell_type": "code",
   "execution_count": 189,
   "metadata": {},
   "outputs": [],
   "source": [
    "class Population (object) :\n",
    "    def __init__(self):\n",
    "        self.population = []\n",
    "    \n",
    "    def add (self, individual):\n",
    "        self.population.append (individual)\n",
    "    \n",
    "    def detAllFitness (self):\n",
    "        for i in range(len (self.population)):\n",
    "            f = self.population[i].calcFitness ()\n",
    "            self.population[i].fitness = f\n",
    "\n",
    "    def rank (self):\n",
    "        self.sort (key = lambda individual: individual.getFitness(), reverse=True)\n",
    "\n",
    "        \n",
    "    def __repr__(self):\n",
    "        braket = \"<\"\n",
    "        for i in range(0, len (self.population)):\n",
    "            braket += str(self.population[i].getFitness()) + \" \"\n",
    "        braket += \">\" \n",
    "        \n",
    "        return braket\n",
    "        "
   ]
  },
  {
   "cell_type": "code",
   "execution_count": 190,
   "metadata": {
    "collapsed": true
   },
   "outputs": [],
   "source": [
    "class GO:\n",
    "    def __init__(self, I):\n",
    "      self.population = []\n",
    "      self.I = I\n",
    "      self.mutationRate = 1.0\n",
    "      self.populationSize = 5\n",
    "      self.elitism = True\n",
    "    \n",
    "    def evolve (self, generations, base):\n",
    "        self.population.append (base)\n",
    "        for i in range (self.populationSize - 1):\n",
    "            mutant = self.I ()\n",
    "            self.I.cloneInto ()\n",
    "            print (mutant)\n",
    "            self.population[0].cloneInto(mutant)\n",
    "            self.population[0].mutate (mutant)\n",
    "            self.population.append (mutant)\n",
    "        \n",
    "        "
   ]
  },
  {
   "cell_type": "code",
   "execution_count": null,
   "metadata": {
    "collapsed": true
   },
   "outputs": [],
   "source": []
  },
  {
   "cell_type": "code",
   "execution_count": 191,
   "metadata": {},
   "outputs": [
    {
     "name": "stdout",
     "output_type": "stream",
     "text": [
      "d\n"
     ]
    },
    {
     "ename": "AttributeError",
     "evalue": "'Population' object has no attribute 'sort'",
     "output_type": "error",
     "traceback": [
      "\u001b[0;31m---------------------------------------------------------------------------\u001b[0m",
      "\u001b[0;31mAttributeError\u001b[0m                            Traceback (most recent call last)",
      "\u001b[0;32m<ipython-input-191-d9f5e39cbe76>\u001b[0m in \u001b[0;36m<module>\u001b[0;34m()\u001b[0m\n\u001b[1;32m     17\u001b[0m \u001b[0mpopulation\u001b[0m\u001b[0;34m.\u001b[0m\u001b[0madd\u001b[0m \u001b[0;34m(\u001b[0m\u001b[0mi2\u001b[0m\u001b[0;34m)\u001b[0m\u001b[0;34m\u001b[0m\u001b[0m\n\u001b[1;32m     18\u001b[0m \u001b[0mpopulation\u001b[0m\u001b[0;34m.\u001b[0m\u001b[0mdetAllFitness\u001b[0m \u001b[0;34m(\u001b[0m\u001b[0;34m)\u001b[0m\u001b[0;34m\u001b[0m\u001b[0m\n\u001b[0;32m---> 19\u001b[0;31m \u001b[0mpopulation\u001b[0m\u001b[0;34m.\u001b[0m\u001b[0mrank\u001b[0m\u001b[0;34m(\u001b[0m\u001b[0;34m)\u001b[0m\u001b[0;34m\u001b[0m\u001b[0m\n\u001b[0m\u001b[1;32m     20\u001b[0m \u001b[0mprint\u001b[0m \u001b[0;34m(\u001b[0m\u001b[0mpopulation\u001b[0m\u001b[0;34m)\u001b[0m\u001b[0;34m\u001b[0m\u001b[0m\n\u001b[1;32m     21\u001b[0m \u001b[0;34m\u001b[0m\u001b[0m\n",
      "\u001b[0;32m<ipython-input-189-297380cb116a>\u001b[0m in \u001b[0;36mrank\u001b[0;34m(self)\u001b[0m\n\u001b[1;32m     12\u001b[0m \u001b[0;34m\u001b[0m\u001b[0m\n\u001b[1;32m     13\u001b[0m     \u001b[0;32mdef\u001b[0m \u001b[0mrank\u001b[0m \u001b[0;34m(\u001b[0m\u001b[0mself\u001b[0m\u001b[0;34m)\u001b[0m\u001b[0;34m:\u001b[0m\u001b[0;34m\u001b[0m\u001b[0m\n\u001b[0;32m---> 14\u001b[0;31m         \u001b[0mself\u001b[0m\u001b[0;34m.\u001b[0m\u001b[0msort\u001b[0m \u001b[0;34m(\u001b[0m\u001b[0mkey\u001b[0m \u001b[0;34m=\u001b[0m \u001b[0;32mlambda\u001b[0m \u001b[0mindividual\u001b[0m\u001b[0;34m:\u001b[0m \u001b[0mindividual\u001b[0m\u001b[0;34m.\u001b[0m\u001b[0mgetFitness\u001b[0m\u001b[0;34m(\u001b[0m\u001b[0;34m)\u001b[0m\u001b[0;34m,\u001b[0m \u001b[0mreverse\u001b[0m\u001b[0;34m=\u001b[0m\u001b[0;32mTrue\u001b[0m\u001b[0;34m)\u001b[0m\u001b[0;34m\u001b[0m\u001b[0m\n\u001b[0m\u001b[1;32m     15\u001b[0m \u001b[0;34m\u001b[0m\u001b[0m\n\u001b[1;32m     16\u001b[0m \u001b[0;34m\u001b[0m\u001b[0m\n",
      "\u001b[0;31mAttributeError\u001b[0m: 'Population' object has no attribute 'sort'"
     ]
    }
   ],
   "source": [
    "c1 = City(0,100)\n",
    "c2 = City(100, 100)\n",
    "c3 = City (200, 100)\n",
    "c4 = City (300, 100)\n",
    "i1 = Individual ()\n",
    "i1.add(c1)\n",
    "i1.add(c2)\n",
    "i1.add(c3)\n",
    "i1.calcFitness()\n",
    "print (\"d\")\n",
    "i2 = Individual ()\n",
    "i2.add(c2)\n",
    "i2.add(c1)\n",
    "i2.add(c3)\n",
    "population = Population ()\n",
    "population.add (i1)\n",
    "population.add (i2)\n",
    "population.detAllFitness ()\n",
    "population.rank()\n",
    "print (population)\n",
    "\n",
    "\n"
   ]
  },
  {
   "cell_type": "code",
   "execution_count": null,
   "metadata": {
    "collapsed": true
   },
   "outputs": [],
   "source": []
  }
 ],
 "metadata": {
  "kernelspec": {
   "display_name": "Python 3",
   "language": "python",
   "name": "python3"
  },
  "language_info": {
   "codemirror_mode": {
    "name": "ipython",
    "version": 3
   },
   "file_extension": ".py",
   "mimetype": "text/x-python",
   "name": "python",
   "nbconvert_exporter": "python",
   "pygments_lexer": "ipython3",
   "version": "3.6.3"
  }
 },
 "nbformat": 4,
 "nbformat_minor": 2
}
