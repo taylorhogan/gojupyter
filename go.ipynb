{
 "cells": [
  {
   "cell_type": "markdown",
   "metadata": {
    "slideshow": {
     "slide_type": "slide"
    }
   },
   "source": [
    "# Genetic Optimization\n",
    "## ML Forum \n",
    "### Taylor Hogan 5-12-17"
   ]
  },
  {
   "cell_type": "markdown",
   "metadata": {
    "slideshow": {
     "slide_type": "slide"
    }
   },
   "source": [
    "# Agenda\n",
    "### Background\n",
    "### Code Example\n",
    "### Why, Why Not"
   ]
  },
  {
   "cell_type": "markdown",
   "metadata": {},
   "source": [
    "Inline-style: \n",
    "![alt text](https://goo.gl/images/T1H5cE \"Logo Title Text 1\")\n"
   ]
  },
  {
   "cell_type": "code",
   "execution_count": 257,
   "metadata": {
    "collapsed": true
   },
   "outputs": [],
   "source": [
    "from abc import ABCMeta, abstractmethod\n",
    "\n",
    "class Individual () :\n",
    "    __metaclass__ = ABCMeta\n",
    "    \n",
    "    score = -1.0\n",
    "    \n",
    "    @abstractmethod\n",
    "    def mutate (self) : pass\n",
    "    def fitness (self) : pass\n",
    "    def mate (self, other) : pass\n",
    "    def clone (self) : pass\n",
    " \n",
    "   \n",
    "    "
   ]
  },
  {
   "cell_type": "code",
   "execution_count": 258,
   "metadata": {
    "collapsed": true
   },
   "outputs": [],
   "source": [
    "def clone (individual : list):\n",
    "    clone = []\n",
    "    for i in range (len (individual)):\n",
    "        clone.append (individual[i])\n",
    "    return clone\n"
   ]
  },
  {
   "cell_type": "code",
   "execution_count": 259,
   "metadata": {
    "collapsed": true,
    "slideshow": {
     "slide_type": "slide"
    }
   },
   "outputs": [],
   "source": [
    "import random\n",
    "from typing import List\n",
    "\n",
    "def mutate (individual : list, times : int = 1) -> list:\n",
    "    mutant = clone (individual)\n",
    "    size = len (individual)\n",
    "    for i in range (times):       \n",
    "        ith = int (random.random () * size)\n",
    "        jth = int (random.random () * size)\n",
    "        tmp = mutant[ith]\n",
    "        mutant[ith] = mutant[jth]\n",
    "        mutant[jth] = tmp\n",
    "    return mutant\n",
    "    \n",
    "    \n",
    "    "
   ]
  },
  {
   "cell_type": "code",
   "execution_count": 260,
   "metadata": {
    "collapsed": true,
    "slideshow": {
     "slide_type": "slide"
    }
   },
   "outputs": [],
   "source": [
    "def fitness (individual) -> float:\n",
    "    return 1\n"
   ]
  },
  {
   "cell_type": "code",
   "execution_count": 261,
   "metadata": {
    "collapsed": true,
    "slideshow": {
     "slide_type": "slide"
    }
   },
   "outputs": [],
   "source": [
    "def evolveOneGeneration (population :list )-> list :\n",
    "    nextGeneration = []\n",
    "    nextGeneration = list (map (mutate, population))\n",
    "    print (nextGeneration)\n",
    "    return nextGeneration.append (population)\n",
    "        #for individual in nextGeneration:\n",
    "         #   setFitness (individual, fitness (individual))\n",
    "            \n",
    "        "
   ]
  },
  {
   "cell_type": "code",
   "execution_count": 262,
   "metadata": {
    "collapsed": true
   },
   "outputs": [],
   "source": [
    "import random\n",
    "\n",
    "def createOneRandom (chromosomeSize)->list:\n",
    "    individual = []\n",
    "    for i in range (chromosomeSize):\n",
    "        individual.append ( int (random.random() * chromosomeSize))\n",
    "    return individual\n",
    "                           \n",
    "        \n",
    "    "
   ]
  },
  {
   "cell_type": "code",
   "execution_count": 263,
   "metadata": {},
   "outputs": [
    {
     "name": "stdout",
     "output_type": "stream",
     "text": [
      "e [12, 17, 18, 0, 6, 15, 18, 5, 14, 1, 12, 19, 14, 0, 5, 10, 17, 9, 11, 14]\n",
      "[[12, 17, 18, 0, 6, 15, 18, 5, 14, 1, 12, 11, 14, 0, 5, 10, 17, 9, 19, 14]]\n",
      "f None\n"
     ]
    }
   ],
   "source": [
    "populationSize = 1\n",
    "chromosomeSize = 20\n",
    "population = []\n",
    "\n",
    "population.append (createOneRandom (chromosomeSize))\n",
    "for i in range (populationSize-1):\n",
    "    population.append (mutate (population[i], 100))\n",
    "\n",
    "for individual in population:\n",
    "    print (\"e\", individual)\n",
    "    \n",
    "print (\"f\", evolveOneGeneration (population))\n",
    "\n"
   ]
  },
  {
   "cell_type": "code",
   "execution_count": null,
   "metadata": {
    "collapsed": true
   },
   "outputs": [],
   "source": []
  },
  {
   "cell_type": "code",
   "execution_count": null,
   "metadata": {
    "collapsed": true
   },
   "outputs": [],
   "source": []
  },
  {
   "cell_type": "code",
   "execution_count": null,
   "metadata": {
    "collapsed": true
   },
   "outputs": [],
   "source": []
  }
 ],
 "metadata": {
  "kernelspec": {
   "display_name": "Python 3",
   "language": "python",
   "name": "python3"
  },
  "language_info": {
   "codemirror_mode": {
    "name": "ipython",
    "version": 3
   },
   "file_extension": ".py",
   "mimetype": "text/x-python",
   "name": "python",
   "nbconvert_exporter": "python",
   "pygments_lexer": "ipython3",
   "version": "3.6.3"
  }
 },
 "nbformat": 4,
 "nbformat_minor": 2
}
