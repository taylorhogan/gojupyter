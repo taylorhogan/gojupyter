{
 "cells": [
  {
   "cell_type": "markdown",
   "metadata": {
    "slideshow": {
     "slide_type": "slide"
    }
   },
   "source": [
    "# Genetic Optimization\n",
    "## ML Forum \n",
    "### Taylor Hogan Dec-5-17"
   ]
  },
  {
   "cell_type": "markdown",
   "metadata": {
    "slideshow": {
     "slide_type": "slide"
    }
   },
   "source": [
    "# Agenda\n",
    "### Background\n",
    "### Code Example\n",
    "### Why, Why Not"
   ]
  },
  {
   "cell_type": "markdown",
   "metadata": {},
   "source": [
    "\n",
    "![alt text](Genetic-Algorithm-Tree-Basic-steps-of-GA-selection-crossover-and-mutation.jpg \"Logo Title Text 1\")\n",
    "\n",
    "\n"
   ]
  },
  {
   "cell_type": "code",
   "execution_count": 45,
   "metadata": {
    "collapsed": true
   },
   "outputs": [],
   "source": [
    "from abc import ABCMeta, abstractmethod\n",
    "\n",
    "class Individual () :\n",
    "    __metaclass__ = ABCMeta\n",
    "    \n",
    "    score = -1.0\n",
    "    \n",
    "    @abstractmethod\n",
    "    def mutate (self) : pass\n",
    "    def fitness (self) : pass\n",
    "    def mate (self, other) : pass\n",
    "    def clone (self) : pass\n",
    " \n",
    "   \n",
    "    "
   ]
  },
  {
   "cell_type": "code",
   "execution_count": 46,
   "metadata": {
    "collapsed": true
   },
   "outputs": [],
   "source": [
    "def clone (individual : list) -> list :\n",
    "    clone = []\n",
    "    for i in range (len (individual)):\n",
    "        clone.append (individual[i])\n",
    "    return clone\n"
   ]
  },
  {
   "cell_type": "code",
   "execution_count": 47,
   "metadata": {
    "collapsed": true,
    "slideshow": {
     "slide_type": "slide"
    }
   },
   "outputs": [],
   "source": [
    "import random\n",
    "from typing import List\n",
    "\n",
    "def mutate2 (individual : list, times : int = 1) -> list:\n",
    "    mutant = clone (individual)\n",
    "    size = len (individual)\n",
    "    for i in range (times):       \n",
    "        ith = int (random.random () * size)\n",
    "        jth = int (random.random () * size)\n",
    "        tmp = mutant[ith]\n",
    "        mutant[ith] = mutant[jth]\n",
    "        mutant[jth] = tmp\n",
    "    return mutant\n",
    "    \n",
    "    \n",
    "    "
   ]
  },
  {
   "cell_type": "code",
   "execution_count": 48,
   "metadata": {
    "collapsed": true,
    "slideshow": {
     "slide_type": "slide"
    }
   },
   "outputs": [],
   "source": [
    "import random\n",
    "from typing import List\n",
    "\n",
    "def mutate1 (individual : list, times : int = 1) -> list:\n",
    "    mutant = clone (individual)\n",
    "    size = len (individual)\n",
    "    for i in range (times):       \n",
    "        ith = random.randint (0, size-1)\n",
    "        jth = random.randint (0, size-1)\n",
    "        tmp = mutant[ith]\n",
    "        del(mutant[ith]);\n",
    "        mutant.insert (jth, tmp)\n",
    "        \n",
    "    return mutant\n",
    "    \n",
    "    \n",
    "    "
   ]
  },
  {
   "cell_type": "code",
   "execution_count": 49,
   "metadata": {
    "collapsed": true,
    "slideshow": {
     "slide_type": "slide"
    }
   },
   "outputs": [],
   "source": [
    "def fitness (individual : list) -> float:\n",
    "    fitness = 0\n",
    "    size = len (individual)\n",
    "    if (size <= 1):\n",
    "        return 1.0\n",
    "    for ith in range (size -1):\n",
    "        if (individual[ith] <= individual[ith+1]):\n",
    "            fitness += 1\n",
    "        else :\n",
    "            break\n",
    "    return (fitness / (size-1))\n",
    "    \n"
   ]
  },
  {
   "cell_type": "code",
   "execution_count": 50,
   "metadata": {
    "collapsed": true,
    "slideshow": {
     "slide_type": "slide"
    }
   },
   "outputs": [],
   "source": [
    "\n",
    "def evolveOneGeneration (population :list )-> list :\n",
    "    mF = mutate1\n",
    "    nextGeneration =   list(map (mF, population))  \n",
    "    population.extend (nextGeneration)\n",
    "    population.sort\n",
    "    return population\n",
    "            \n",
    "        "
   ]
  },
  {
   "cell_type": "code",
   "execution_count": 51,
   "metadata": {
    "collapsed": true
   },
   "outputs": [],
   "source": [
    "import random\n",
    "\n",
    "def createOneRandom (chromosomeSize)->list:\n",
    "    individual = []\n",
    "    for i in range (chromosomeSize):\n",
    "        individual.append (chromosomeSize-i)\n",
    "    \n",
    "    return individual\n",
    "                           \n",
    "        \n",
    "    "
   ]
  },
  {
   "cell_type": "code",
   "execution_count": null,
   "metadata": {
    "collapsed": true
   },
   "outputs": [],
   "source": []
  },
  {
   "cell_type": "code",
   "execution_count": 64,
   "metadata": {
    "collapsed": true
   },
   "outputs": [
    {
     "name": "stdout",
     "output_type": "stream",
     "text": [
      "[2, 3, 4, 5, 6, 7, 8, 10, 11, 12, 13, 14, 15, 16, 1, 9] 0.8666666666666667\n",
      "[1, 3, 4, 5, 6, 7, 8, 9, 10, 12, 13, 14, 15, 16, 2, 11] 0.8666666666666667\n",
      "[2, 3, 4, 5, 6, 7, 8, 9, 10, 12, 13, 14, 15, 16, 11, 1] 0.8666666666666667\n",
      "[2, 3, 4, 5, 6, 7, 8, 9, 10, 12, 13, 14, 15, 16, 1, 11] 0.8666666666666667\n",
      "[2, 3, 4, 5, 6, 7, 8, 9, 10, 12, 13, 14, 15, 16, 1, 11] 0.8666666666666667\n",
      "[1, 2, 3, 4, 5, 6, 7, 8, 9, 10, 13, 14, 15, 16, 11, 12] 0.8666666666666667\n",
      "[2, 3, 4, 5, 6, 7, 8, 10, 11, 12, 13, 14, 15, 16, 1, 9] 0.8666666666666667\n",
      "[1, 2, 3, 4, 5, 6, 7, 10, 11, 12, 13, 14, 15, 16, 8, 9] 0.8666666666666667\n",
      "[1, 3, 4, 5, 6, 7, 8, 9, 10, 11, 13, 14, 15, 16, 2, 12] 0.8666666666666667\n",
      "[1, 3, 4, 5, 6, 7, 8, 9, 10, 11, 13, 14, 15, 16, 2, 12] 0.8666666666666667\n",
      "[1, 2, 3, 4, 5, 6, 7, 8, 9, 10, 13, 14, 15, 16, 11, 12] 0.8666666666666667\n",
      "[1, 3, 4, 5, 6, 7, 8, 9, 10, 12, 13, 14, 15, 16, 11, 2] 0.8666666666666667\n",
      "[2, 3, 4, 5, 6, 7, 8, 9, 10, 12, 13, 14, 15, 16, 11, 1] 0.8666666666666667\n",
      "[2, 3, 4, 5, 6, 7, 8, 9, 10, 12, 13, 14, 15, 16, 11, 1] 0.8666666666666667\n",
      "[2, 3, 4, 5, 6, 7, 8, 9, 10, 12, 13, 14, 15, 16, 11, 1] 0.8666666666666667\n",
      "[2, 3, 4, 5, 6, 7, 8, 10, 11, 12, 13, 14, 15, 16, 1, 9] 0.8666666666666667\n",
      "[2, 3, 4, 5, 6, 7, 8, 10, 11, 12, 13, 14, 15, 16, 1, 9] 0.8666666666666667\n",
      "[1, 3, 4, 5, 6, 7, 8, 9, 10, 12, 13, 14, 15, 16, 2, 11] 0.8666666666666667\n",
      "[1, 2, 3, 4, 5, 6, 7, 8, 10, 11, 12, 13, 14, 15, 9, 16] 0.8666666666666667\n",
      "[2, 3, 4, 5, 6, 7, 8, 10, 11, 12, 13, 14, 15, 16, 1, 9] 0.8666666666666667\n",
      "[1, 2, 3, 4, 5, 6, 7, 10, 11, 12, 13, 14, 15, 16, 8, 9] 0.8666666666666667\n",
      "[1, 3, 4, 5, 6, 7, 8, 9, 10, 11, 13, 14, 15, 16, 12, 2] 0.8666666666666667\n",
      "[1, 2, 3, 4, 5, 6, 7, 8, 9, 10, 13, 14, 15, 16, 11, 12] 0.8666666666666667\n",
      "[1, 2, 3, 4, 5, 6, 7, 8, 9, 10, 13, 14, 15, 16, 11, 12] 0.8666666666666667\n",
      "[1, 3, 4, 5, 6, 7, 8, 9, 10, 12, 13, 14, 15, 16, 2, 11] 0.8666666666666667\n",
      "[1, 2, 3, 4, 5, 6, 7, 10, 11, 12, 13, 14, 15, 16, 8, 9] 0.8666666666666667\n",
      "[1, 2, 3, 4, 5, 6, 7, 10, 11, 12, 13, 14, 15, 16, 8, 9] 0.8666666666666667\n",
      "[2, 3, 4, 5, 6, 7, 8, 9, 10, 12, 13, 14, 15, 16, 11, 1] 0.8666666666666667\n",
      "[2, 3, 4, 5, 6, 7, 8, 10, 11, 12, 13, 14, 15, 16, 1, 9] 0.8666666666666667\n",
      "[1, 2, 3, 4, 5, 6, 7, 10, 11, 12, 13, 14, 15, 16, 8, 9] 0.8666666666666667\n",
      "[1, 2, 3, 4, 5, 6, 7, 8, 9, 10, 14, 15, 16, 11, 12, 13] 0.8\n",
      "[1, 3, 4, 5, 6, 7, 8, 9, 10, 12, 13, 14, 15, 2, 16, 11] 0.8\n",
      "[2, 3, 5, 6, 7, 8, 9, 10, 12, 13, 14, 15, 16, 4, 11, 1] 0.8\n",
      "[1, 2, 4, 5, 6, 7, 8, 9, 10, 13, 14, 15, 3, 16, 11, 12] 0.7333333333333333\n",
      "[2, 3, 5, 6, 7, 8, 9, 10, 12, 13, 14, 15, 4, 16, 11, 1] 0.7333333333333333\n",
      "[2, 3, 5, 6, 7, 8, 9, 10, 12, 13, 14, 4, 15, 16, 11, 1] 0.6666666666666666\n",
      "[1, 3, 4, 5, 6, 7, 8, 9, 10, 16, 12, 13, 14, 15, 11, 2] 0.6\n",
      "[2, 3, 4, 5, 7, 8, 10, 11, 12, 13, 6, 14, 15, 16, 1, 9] 0.6\n",
      "[3, 4, 5, 6, 7, 8, 10, 11, 12, 2, 13, 14, 15, 16, 1, 9] 0.5333333333333333\n",
      "[2, 3, 4, 5, 6, 7, 9, 10, 12, 8, 13, 14, 15, 16, 1, 11] 0.5333333333333333\n",
      "[1, 3, 4, 5, 6, 7, 8, 9, 10, 2, 11, 13, 14, 15, 16, 12] 0.5333333333333333\n",
      "[2, 3, 4, 6, 7, 8, 10, 11, 5, 12, 13, 14, 15, 16, 1, 9] 0.4666666666666667\n",
      "[3, 4, 5, 6, 7, 8, 9, 10, 2, 12, 13, 14, 15, 16, 11, 1] 0.4666666666666667\n",
      "[1, 2, 3, 4, 5, 6, 10, 7, 11, 12, 13, 14, 15, 16, 8, 9] 0.4\n",
      "[1, 3, 4, 5, 6, 8, 7, 9, 10, 11, 13, 14, 15, 16, 2, 12] 0.3333333333333333\n",
      "[1, 3, 4, 5, 6, 11, 7, 8, 9, 10, 12, 13, 14, 15, 16, 2] 0.3333333333333333\n",
      "[1, 3, 4, 5, 6, 11, 7, 8, 9, 10, 13, 14, 15, 16, 12, 2] 0.3333333333333333\n",
      "[2, 3, 4, 5, 1, 6, 7, 8, 10, 11, 12, 13, 14, 15, 16, 9] 0.2\n",
      "[1, 2, 3, 13, 4, 5, 6, 7, 10, 11, 12, 14, 15, 16, 8, 9] 0.2\n",
      "[1, 2, 4, 3, 5, 6, 7, 10, 11, 12, 13, 14, 15, 16, 8, 9] 0.13333333333333333\n",
      "[1, 2, 16, 3, 4, 5, 6, 7, 8, 9, 10, 13, 14, 15, 11, 12] 0.13333333333333333\n",
      "[1, 2, 8, 3, 4, 5, 6, 7, 10, 11, 12, 13, 14, 15, 16, 9] 0.13333333333333333\n",
      "[1, 2, 14, 3, 4, 5, 6, 7, 10, 11, 12, 13, 15, 16, 8, 9] 0.13333333333333333\n",
      "[2, 3, 13, 4, 5, 6, 7, 8, 10, 11, 12, 14, 15, 16, 1, 9] 0.13333333333333333\n",
      "[1, 7, 3, 4, 5, 6, 8, 9, 10, 12, 13, 14, 15, 16, 2, 11] 0.06666666666666667\n",
      "[1, 9, 2, 3, 4, 5, 6, 7, 8, 10, 11, 12, 13, 14, 15, 16] 0.06666666666666667\n",
      "[1, 14, 2, 3, 4, 5, 6, 7, 8, 9, 10, 13, 15, 16, 11, 12] 0.06666666666666667\n",
      "[8, 2, 3, 4, 5, 6, 7, 9, 10, 12, 13, 14, 15, 16, 1, 11] 0.0\n",
      "[13, 2, 3, 4, 5, 6, 7, 8, 9, 10, 12, 14, 15, 16, 11, 1] 0.0\n",
      "[5, 2, 3, 4, 6, 7, 8, 10, 11, 12, 13, 14, 15, 16, 1, 9] 0.0\n"
     ]
    }
   ],
   "source": [
    "populationSize = 30\n",
    "chromosomeSize = 16\n",
    "generations = 100\n",
    "population = []\n",
    "\n",
    "\n",
    "population.append (createOneRandom (chromosomeSize))\n",
    "for i in range (populationSize-1):\n",
    "    population.append (mutate1 (population[i], 100))\n",
    "\n",
    "for generation in range (generations):\n",
    "    newPopulation = evolveOneGeneration (population)\n",
    " \n",
    "    newPopulation.sort (key = lambda individual: fitness (individual), reverse=True)\n",
    "\n",
    "    population = newPopulation[:populationSize]\n",
    "    \n",
    "for individual in newPopulation:\n",
    "    print (individual, fitness (individual))\n",
    "\n"
   ]
  },
  {
   "cell_type": "code",
   "execution_count": 53,
   "metadata": {
    "collapsed": true
   },
   "outputs": [],
   "source": [
    "ind = {\"C\":[1,2], \"F\": 0.1}\n"
   ]
  },
  {
   "cell_type": "code",
   "execution_count": 54,
   "metadata": {},
   "outputs": [
    {
     "data": {
      "text/plain": [
       "[2, 4]"
      ]
     },
     "execution_count": 54,
     "metadata": {},
     "output_type": "execute_result"
    }
   ],
   "source": [
    "m = [2,3,4]\n",
    "m\n",
    "del (m[1])\n",
    "m\n"
   ]
  },
  {
   "cell_type": "markdown",
   "metadata": {},
   "source": [
    "m.insert(2,1)\n",
    "m"
   ]
  },
  {
   "cell_type": "code",
   "execution_count": 55,
   "metadata": {
    "collapsed": true
   },
   "outputs": [],
   "source": [
    "m.insert(2,1)\n"
   ]
  },
  {
   "cell_type": "code",
   "execution_count": 56,
   "metadata": {},
   "outputs": [
    {
     "data": {
      "text/plain": [
       "[2, 4, 1]"
      ]
     },
     "execution_count": 56,
     "metadata": {},
     "output_type": "execute_result"
    }
   ],
   "source": [
    "m\n"
   ]
  },
  {
   "cell_type": "code",
   "execution_count": 57,
   "metadata": {
    "collapsed": true
   },
   "outputs": [],
   "source": [
    "m.insert(99,1)\n",
    "\n"
   ]
  },
  {
   "cell_type": "code",
   "execution_count": 58,
   "metadata": {},
   "outputs": [
    {
     "data": {
      "text/plain": [
       "[2, 4, 1, 1]"
      ]
     },
     "execution_count": 58,
     "metadata": {},
     "output_type": "execute_result"
    }
   ],
   "source": [
    "m\n"
   ]
  },
  {
   "cell_type": "code",
   "execution_count": 59,
   "metadata": {},
   "outputs": [
    {
     "name": "stdout",
     "output_type": "stream",
     "text": [
      "2\n",
      "3\n"
     ]
    }
   ],
   "source": [
    "i = Individual()\n",
    "i\n",
    "i.score=2\n",
    "i\n",
    "print (i.score)\n",
    "i.fitness = 3\n",
    "print (i.fitness)\n",
    "\n"
   ]
  },
  {
   "cell_type": "code",
   "execution_count": 60,
   "metadata": {
    "collapsed": true
   },
   "outputs": [],
   "source": [
    "i.z =2"
   ]
  },
  {
   "cell_type": "code",
   "execution_count": 61,
   "metadata": {},
   "outputs": [
    {
     "name": "stdout",
     "output_type": "stream",
     "text": [
      "2\n"
     ]
    }
   ],
   "source": [
    "print (i.z)"
   ]
  },
  {
   "cell_type": "code",
   "execution_count": 65,
   "metadata": {},
   "outputs": [
    {
     "ename": "ModuleNotFoundError",
     "evalue": "No module named 'plotly'",
     "output_type": "error",
     "traceback": [
      "\u001b[0;31m---------------------------------------------------------------------------\u001b[0m",
      "\u001b[0;31mModuleNotFoundError\u001b[0m                       Traceback (most recent call last)",
      "\u001b[0;32m<ipython-input-65-c2bcad6e252a>\u001b[0m in \u001b[0;36m<module>\u001b[0;34m()\u001b[0m\n\u001b[0;32m----> 1\u001b[0;31m \u001b[0;32mimport\u001b[0m \u001b[0mplotly\u001b[0m\u001b[0;34m.\u001b[0m\u001b[0mplotly\u001b[0m \u001b[0;32mas\u001b[0m \u001b[0mpy\u001b[0m\u001b[0;34m\u001b[0m\u001b[0m\n\u001b[0m\u001b[1;32m      2\u001b[0m \u001b[0;32mfrom\u001b[0m \u001b[0mplotly\u001b[0m\u001b[0;34m.\u001b[0m\u001b[0mgraph_objs\u001b[0m \u001b[0;32mimport\u001b[0m \u001b[0;34m*\u001b[0m\u001b[0;34m\u001b[0m\u001b[0m\n\u001b[1;32m      3\u001b[0m \u001b[0;34m\u001b[0m\u001b[0m\n\u001b[1;32m      4\u001b[0m data = [Bar(x=df.School,\n\u001b[1;32m      5\u001b[0m             y=df.gap)]\n",
      "\u001b[0;31mModuleNotFoundError\u001b[0m: No module named 'plotly'"
     ]
    }
   ],
   "source": [
    "import plotly.plotly as py\n",
    "from plotly.graph_objs import *\n",
    "\n",
    "data = [Bar(x=df.School,\n",
    "            y=df.gap)]\n",
    "\n",
    "py.iplot(data, filename='jupyter/basic_bar')\n"
   ]
  },
  {
   "cell_type": "code",
   "execution_count": null,
   "metadata": {
    "collapsed": true
   },
   "outputs": [],
   "source": []
  }
 ],
 "metadata": {
  "kernelspec": {
   "display_name": "Python 3",
   "language": "python",
   "name": "python3"
  },
  "language_info": {
   "codemirror_mode": {
    "name": "ipython",
    "version": 3
   },
   "file_extension": ".py",
   "mimetype": "text/x-python",
   "name": "python",
   "nbconvert_exporter": "python",
   "pygments_lexer": "ipython3",
   "version": "3.6.3"
  }
 },
 "nbformat": 4,
 "nbformat_minor": 2
}
