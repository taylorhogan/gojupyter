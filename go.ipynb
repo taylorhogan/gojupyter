{
 "cells": [
  {
   "cell_type": "markdown",
   "metadata": {
    "slideshow": {
     "slide_type": "slide"
    }
   },
   "source": [
    "# Genetic Optimization\n",
    "## ML Forum \n",
    "### Taylor Hogan Dec-5-17"
   ]
  },
  {
   "cell_type": "markdown",
   "metadata": {
    "slideshow": {
     "slide_type": "slide"
    }
   },
   "source": [
    "# Agenda\n",
    "### Background\n",
    "### Code Example\n",
    "### Why, Why Not"
   ]
  },
  {
   "cell_type": "markdown",
   "metadata": {},
   "source": [
    "\n",
    "![alt text](Genetic-Algorithm-Tree-Basic-steps-of-GA-selection-crossover-and-mutation.jpg \"Logo Title Text 1\")\n",
    "\n",
    "\n"
   ]
  },
  {
   "cell_type": "code",
   "execution_count": 133,
   "metadata": {
    "collapsed": true
   },
   "outputs": [],
   "source": [
    "from abc import ABCMeta, abstractmethod\n",
    "\n",
    "class Individual () :\n",
    "    __metaclass__ = ABCMeta\n",
    "    \n",
    "    score = -1.0\n",
    "    \n",
    "    @abstractmethod\n",
    "    def mutate (self) : pass\n",
    "    def fitness (self) : pass\n",
    "    def mate (self, other) : pass\n",
    "    def clone (self) : pass\n",
    " \n",
    "   \n",
    "    "
   ]
  },
  {
   "cell_type": "code",
   "execution_count": 134,
   "metadata": {
    "collapsed": true
   },
   "outputs": [],
   "source": [
    "def clone (individual : list) -> list :\n",
    "    clone = []\n",
    "    for i in range (len (individual)):\n",
    "        clone.append (individual[i])\n",
    "    return clone\n"
   ]
  },
  {
   "cell_type": "code",
   "execution_count": 135,
   "metadata": {
    "collapsed": true,
    "slideshow": {
     "slide_type": "slide"
    }
   },
   "outputs": [],
   "source": [
    "import random\n",
    "from typing import List\n",
    "\n",
    "def mutate (individual : list, times : int = 1) -> list:\n",
    "    mutant = clone (individual)\n",
    "    size = len (individual)\n",
    "    for i in range (times):       \n",
    "        ith = int (random.random () * size)\n",
    "        jth = int (random.random () * size)\n",
    "        tmp = mutant[ith]\n",
    "        mutant[ith] = mutant[jth]\n",
    "        mutant[jth] = tmp\n",
    "    return mutant\n",
    "    \n",
    "    \n",
    "    "
   ]
  },
  {
   "cell_type": "code",
   "execution_count": 136,
   "metadata": {
    "slideshow": {
     "slide_type": "slide"
    }
   },
   "outputs": [],
   "source": [
    "def fitness (individual : list) -> float:\n",
    "    fitness = 0\n",
    "    size = len (individual)\n",
    "    if (size <= 1):\n",
    "        return 1.0\n",
    "    for ith in range (size -1):\n",
    "        if (individual[ith] < individual[ith+1]):\n",
    "            fitness += 1\n",
    "    return (fitness / (size-1))\n",
    "    \n"
   ]
  },
  {
   "cell_type": "code",
   "execution_count": 137,
   "metadata": {
    "collapsed": true,
    "slideshow": {
     "slide_type": "slide"
    }
   },
   "outputs": [],
   "source": [
    "\n",
    "def evolveOneGeneration (population :list )-> list :\n",
    "    nextGeneration = []\n",
    "    nextGeneration =   list(map (mutate, population))\n",
    "   \n",
    "    population.extend (nextGeneration)\n",
    "    return population\n",
    "            \n",
    "        "
   ]
  },
  {
   "cell_type": "code",
   "execution_count": 138,
   "metadata": {
    "collapsed": true
   },
   "outputs": [],
   "source": [
    "import random\n",
    "\n",
    "def createOneRandom (chromosomeSize)->list:\n",
    "    individual = []\n",
    "    for i in range (chromosomeSize):\n",
    "        individual.append ( int (random.random() * chromosomeSize))\n",
    "    return individual\n",
    "                           \n",
    "        \n",
    "    "
   ]
  },
  {
   "cell_type": "code",
   "execution_count": 139,
   "metadata": {},
   "outputs": [
    {
     "name": "stdout",
     "output_type": "stream",
     "text": [
      "f [[15, 7, 8, 3, 2, 15, 13, 5, 11, 15, 4, 1, 13, 19, 13, 19, 19, 4, 9, 17], [15, 7, 8, 3, 2, 15, 13, 5, 11, 15, 4, 1, 9, 19, 13, 19, 19, 4, 13, 17]]\n"
     ]
    }
   ],
   "source": [
    "populationSize = 1\n",
    "chromosomeSize = 20\n",
    "population = []\n",
    "\n",
    "population.append (createOneRandom (chromosomeSize))\n",
    "for i in range (populationSize-1):\n",
    "    population.append (mutate (population[i], 100))\n",
    "\n",
    "\n",
    "print (\"f\", evolveOneGeneration (population))\n",
    "\n"
   ]
  },
  {
   "cell_type": "code",
   "execution_count": 141,
   "metadata": {},
   "outputs": [
    {
     "name": "stdout",
     "output_type": "stream",
     "text": [
      "0.6666666666666666\n"
     ]
    }
   ],
   "source": [
    "print (fitness ([1,2,3,2]))\n",
    "    \n",
    "    "
   ]
  },
  {
   "cell_type": "code",
   "execution_count": null,
   "metadata": {
    "collapsed": true
   },
   "outputs": [],
   "source": []
  },
  {
   "cell_type": "code",
   "execution_count": null,
   "metadata": {
    "collapsed": true
   },
   "outputs": [],
   "source": []
  }
 ],
 "metadata": {
  "kernelspec": {
   "display_name": "Python 3",
   "language": "python",
   "name": "python3"
  },
  "language_info": {
   "codemirror_mode": {
    "name": "ipython",
    "version": 3
   },
   "file_extension": ".py",
   "mimetype": "text/x-python",
   "name": "python",
   "nbconvert_exporter": "python",
   "pygments_lexer": "ipython3",
   "version": "3.6.3"
  }
 },
 "nbformat": 4,
 "nbformat_minor": 2
}
