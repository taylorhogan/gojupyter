{
 "cells": [
  {
   "cell_type": "markdown",
   "metadata": {
    "slideshow": {
     "slide_type": "slide"
    }
   },
   "source": [
    "# Genetic Optimization\n",
    "## ML Forum \n",
    "### Taylor Hogan Dec-5-17"
   ]
  },
  {
   "cell_type": "markdown",
   "metadata": {
    "slideshow": {
     "slide_type": "slide"
    }
   },
   "source": [
    "# Agenda\n",
    "### Background\n",
    "### Code Example\n",
    "### Why, Why Not"
   ]
  },
  {
   "cell_type": "markdown",
   "metadata": {},
   "source": [
    "\n",
    "![alt text](Genetic-Algorithm-Tree-Basic-steps-of-GA-selection-crossover-and-mutation.jpg \"Logo Title Text 1\")\n",
    "\n",
    "\n"
   ]
  },
  {
   "cell_type": "code",
   "execution_count": 77,
   "metadata": {
    "collapsed": true
   },
   "outputs": [],
   "source": [
    "from abc import ABCMeta, abstractmethod\n",
    "\n",
    "class Individual () :\n",
    "    __metaclass__ = ABCMeta\n",
    "    \n",
    "    score = -1.0\n",
    "    \n",
    "    @abstractmethod\n",
    "    def mutate (self) : pass\n",
    "    def fitness (self) : pass\n",
    "    def mate (self, other) : pass\n",
    "    def clone (self) : pass\n",
    " \n",
    "   \n",
    "    "
   ]
  },
  {
   "cell_type": "code",
   "execution_count": 78,
   "metadata": {
    "collapsed": true
   },
   "outputs": [],
   "source": [
    "def clone (individual : list) -> list :\n",
    "    clone = []\n",
    "    for i in range (len (individual)):\n",
    "        clone.append (individual[i])\n",
    "    return clone\n"
   ]
  },
  {
   "cell_type": "code",
   "execution_count": 79,
   "metadata": {
    "collapsed": true,
    "slideshow": {
     "slide_type": "slide"
    }
   },
   "outputs": [],
   "source": [
    "import random\n",
    "from typing import List\n",
    "\n",
    "def mutate2 (individual : list, times : int = 1) -> list:\n",
    "    mutant = clone (individual)\n",
    "    size = len (individual)\n",
    "    for i in range (times):       \n",
    "        ith = int (random.random () * size)\n",
    "        jth = int (random.random () * size)\n",
    "        tmp = mutant[ith]\n",
    "        mutant[ith] = mutant[jth]\n",
    "        mutant[jth] = tmp\n",
    "    return mutant\n",
    "    \n",
    "    \n",
    "    "
   ]
  },
  {
   "cell_type": "code",
   "execution_count": 80,
   "metadata": {
    "collapsed": true,
    "slideshow": {
     "slide_type": "slide"
    }
   },
   "outputs": [],
   "source": [
    "import random\n",
    "from typing import List\n",
    "\n",
    "def mutate1 (individual : list, times : int = 1) -> list:\n",
    "    mutant = clone (individual)\n",
    "    size = len (individual)\n",
    "    for i in range (times):       \n",
    "        ith = random.randint (0, size-1)\n",
    "        jth = random.randint (0, size-1)\n",
    "        tmp = mutant[ith]\n",
    "        del(mutant[ith]);\n",
    "        mutant.insert (jth, tmp)\n",
    "        \n",
    "    return mutant\n",
    "    \n",
    "    \n",
    "    "
   ]
  },
  {
   "cell_type": "code",
   "execution_count": 81,
   "metadata": {
    "collapsed": true,
    "slideshow": {
     "slide_type": "slide"
    }
   },
   "outputs": [],
   "source": [
    "def fitness (individual : list) -> float:\n",
    "    fitness = 0\n",
    "    size = len (individual)\n",
    "    if (size <= 1):\n",
    "        return 1.0\n",
    "    for ith in range (size -1):\n",
    "        if (individual[ith] <= individual[ith+1]):\n",
    "            fitness += 1\n",
    "        else :\n",
    "            break\n",
    "    return (fitness / (size-1))\n",
    "    \n"
   ]
  },
  {
   "cell_type": "code",
   "execution_count": 82,
   "metadata": {
    "collapsed": true,
    "slideshow": {
     "slide_type": "slide"
    }
   },
   "outputs": [],
   "source": [
    "\n",
    "def evolveOneGeneration (population :list )-> list :\n",
    "    mF = mutate1\n",
    "    nextGeneration =   list(map (mF, population))  \n",
    "    population.extend (nextGeneration)\n",
    "    population.sort\n",
    "    return population\n",
    "            \n",
    "        "
   ]
  },
  {
   "cell_type": "code",
   "execution_count": 83,
   "metadata": {
    "collapsed": true
   },
   "outputs": [],
   "source": [
    "import random\n",
    "\n",
    "def createOneRandom (chromosomeSize)->list:\n",
    "    individual = []\n",
    "    for i in range (chromosomeSize):\n",
    "        individual.append (chromosomeSize-i)\n",
    "    \n",
    "    return individual\n",
    "                           \n",
    "        \n",
    "    "
   ]
  },
  {
   "cell_type": "code",
   "execution_count": null,
   "metadata": {
    "collapsed": true
   },
   "outputs": [],
   "source": []
  },
  {
   "cell_type": "code",
   "execution_count": 91,
   "metadata": {},
   "outputs": [],
   "source": [
    "populationSize = 30\n",
    "chromosomeSize = 128\n",
    "generations = 10000\n",
    "population = []\n",
    "stats = []\n",
    "\n",
    "\n",
    "population.append (createOneRandom (chromosomeSize))\n",
    "for i in range (populationSize-1):\n",
    "    population.append (mutate1 (population[i], 100))\n",
    "\n",
    "for generation in range (generations):\n",
    "    newPopulation = evolveOneGeneration (population)\n",
    " \n",
    "    newPopulation.sort (key = lambda individual: fitness (individual), reverse=True)\n",
    "\n",
    "    population = newPopulation[:populationSize]\n",
    "    stats.append (fitness (population[0]))\n",
    "    \n",
    "\n"
   ]
  },
  {
   "cell_type": "code",
   "execution_count": 92,
   "metadata": {},
   "outputs": [
    {
     "data": {
      "image/png": "[encoded data removed]",
      "text/plain": [
       "<matplotlib.figure.Figure at 0x1169208d0>"
      ]
     },
     "metadata": {},
     "output_type": "display_data"
    }
   ],
   "source": [
    "%matplotlib inline\n",
    "import matplotlib.pyplot as plt\n",
    "import numpy as np\n",
    "\n",
    "x = np.arange(0,generations,1)\n",
    "plt.plot(stats)\n",
    "plt.title('Fitness')\n",
    "plt.show()\n",
    "\n"
   ]
  }
 ],
 "metadata": {
  "kernelspec": {
   "display_name": "Python 3",
   "language": "python",
   "name": "python3"
  },
  "language_info": {
   "codemirror_mode": {
    "name": "ipython",
    "version": 3
   },
   "file_extension": ".py",
   "mimetype": "text/x-python",
   "name": "python",
   "nbconvert_exporter": "python",
   "pygments_lexer": "ipython3",
   "version": "3.6.3"
  }
 },
 "nbformat": 4,
 "nbformat_minor": 2
}
